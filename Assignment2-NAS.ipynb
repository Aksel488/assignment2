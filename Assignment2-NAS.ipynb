{
 "cells": [
  {
   "cell_type": "code",
   "execution_count": 97,
   "metadata": {},
   "outputs": [
    {
     "data": {
      "text/html": [
       "<div>\n",
       "<style scoped>\n",
       "    .dataframe tbody tr th:only-of-type {\n",
       "        vertical-align: middle;\n",
       "    }\n",
       "\n",
       "    .dataframe tbody tr th {\n",
       "        vertical-align: top;\n",
       "    }\n",
       "\n",
       "    .dataframe thead th {\n",
       "        text-align: right;\n",
       "    }\n",
       "</style>\n",
       "<table border=\"1\" class=\"dataframe\">\n",
       "  <thead>\n",
       "    <tr style=\"text-align: right;\">\n",
       "      <th></th>\n",
       "      <th>Date</th>\n",
       "      <th>Open</th>\n",
       "      <th>High</th>\n",
       "      <th>Low</th>\n",
       "      <th>Close</th>\n",
       "      <th>Adj Close</th>\n",
       "      <th>Volume</th>\n",
       "    </tr>\n",
       "  </thead>\n",
       "  <tbody>\n",
       "    <tr>\n",
       "      <th>0</th>\n",
       "      <td>2003-12-18</td>\n",
       "      <td>19.482599</td>\n",
       "      <td>19.596901</td>\n",
       "      <td>19.025499</td>\n",
       "      <td>19.139799</td>\n",
       "      <td>19.139799</td>\n",
       "      <td>4978496.0</td>\n",
       "    </tr>\n",
       "    <tr>\n",
       "      <th>1</th>\n",
       "      <td>2003-12-19</td>\n",
       "      <td>19.368299</td>\n",
       "      <td>19.425501</td>\n",
       "      <td>18.282801</td>\n",
       "      <td>18.454201</td>\n",
       "      <td>18.454201</td>\n",
       "      <td>1410901.0</td>\n",
       "    </tr>\n",
       "    <tr>\n",
       "      <th>2</th>\n",
       "      <td>2003-12-22</td>\n",
       "      <td>18.739901</td>\n",
       "      <td>18.739901</td>\n",
       "      <td>17.997101</td>\n",
       "      <td>18.054300</td>\n",
       "      <td>18.054300</td>\n",
       "      <td>137047.0</td>\n",
       "    </tr>\n",
       "    <tr>\n",
       "      <th>3</th>\n",
       "      <td>2003-12-23</td>\n",
       "      <td>17.997101</td>\n",
       "      <td>17.997101</td>\n",
       "      <td>17.368700</td>\n",
       "      <td>17.425800</td>\n",
       "      <td>17.425800</td>\n",
       "      <td>229418.0</td>\n",
       "    </tr>\n",
       "    <tr>\n",
       "      <th>4</th>\n",
       "      <td>2003-12-24</td>\n",
       "      <td>NaN</td>\n",
       "      <td>NaN</td>\n",
       "      <td>NaN</td>\n",
       "      <td>NaN</td>\n",
       "      <td>NaN</td>\n",
       "      <td>NaN</td>\n",
       "    </tr>\n",
       "    <tr>\n",
       "      <th>5</th>\n",
       "      <td>2003-12-25</td>\n",
       "      <td>NaN</td>\n",
       "      <td>NaN</td>\n",
       "      <td>NaN</td>\n",
       "      <td>NaN</td>\n",
       "      <td>NaN</td>\n",
       "      <td>NaN</td>\n",
       "    </tr>\n",
       "    <tr>\n",
       "      <th>6</th>\n",
       "      <td>2003-12-26</td>\n",
       "      <td>NaN</td>\n",
       "      <td>NaN</td>\n",
       "      <td>NaN</td>\n",
       "      <td>NaN</td>\n",
       "      <td>NaN</td>\n",
       "      <td>NaN</td>\n",
       "    </tr>\n",
       "    <tr>\n",
       "      <th>7</th>\n",
       "      <td>2003-12-29</td>\n",
       "      <td>17.425800</td>\n",
       "      <td>17.425800</td>\n",
       "      <td>16.854500</td>\n",
       "      <td>17.254400</td>\n",
       "      <td>17.254400</td>\n",
       "      <td>196206.0</td>\n",
       "    </tr>\n",
       "    <tr>\n",
       "      <th>8</th>\n",
       "      <td>2003-12-30</td>\n",
       "      <td>17.425800</td>\n",
       "      <td>17.882900</td>\n",
       "      <td>17.425800</td>\n",
       "      <td>17.711500</td>\n",
       "      <td>17.711500</td>\n",
       "      <td>67298.0</td>\n",
       "    </tr>\n",
       "    <tr>\n",
       "      <th>9</th>\n",
       "      <td>2003-12-31</td>\n",
       "      <td>NaN</td>\n",
       "      <td>NaN</td>\n",
       "      <td>NaN</td>\n",
       "      <td>NaN</td>\n",
       "      <td>NaN</td>\n",
       "      <td>NaN</td>\n",
       "    </tr>\n",
       "  </tbody>\n",
       "</table>\n",
       "</div>"
      ],
      "text/plain": [
       "         Date       Open       High        Low      Close  Adj Close  \\\n",
       "0  2003-12-18  19.482599  19.596901  19.025499  19.139799  19.139799   \n",
       "1  2003-12-19  19.368299  19.425501  18.282801  18.454201  18.454201   \n",
       "2  2003-12-22  18.739901  18.739901  17.997101  18.054300  18.054300   \n",
       "3  2003-12-23  17.997101  17.997101  17.368700  17.425800  17.425800   \n",
       "4  2003-12-24        NaN        NaN        NaN        NaN        NaN   \n",
       "5  2003-12-25        NaN        NaN        NaN        NaN        NaN   \n",
       "6  2003-12-26        NaN        NaN        NaN        NaN        NaN   \n",
       "7  2003-12-29  17.425800  17.425800  16.854500  17.254400  17.254400   \n",
       "8  2003-12-30  17.425800  17.882900  17.425800  17.711500  17.711500   \n",
       "9  2003-12-31        NaN        NaN        NaN        NaN        NaN   \n",
       "\n",
       "      Volume  \n",
       "0  4978496.0  \n",
       "1  1410901.0  \n",
       "2   137047.0  \n",
       "3   229418.0  \n",
       "4        NaN  \n",
       "5        NaN  \n",
       "6        NaN  \n",
       "7   196206.0  \n",
       "8    67298.0  \n",
       "9        NaN  "
      ]
     },
     "execution_count": 97,
     "metadata": {},
     "output_type": "execute_result"
    }
   ],
   "source": [
    "import pandas as pd\n",
    "from sklearn import linear_model\n",
    "import seaborn as sns\n",
    "from datetime import datetime\n",
    "import matplotlib.pyplot as plt\n",
    "\n",
    "data = pd.read_csv(\"NAS.csv\")\n",
    "data.head(10)"
   ]
  },
  {
   "cell_type": "code",
   "execution_count": 98,
   "metadata": {},
   "outputs": [
    {
     "name": "stdout",
     "output_type": "stream",
     "text": [
      "<class 'pandas.core.frame.DataFrame'>\n",
      "RangeIndex: 4253 entries, 0 to 4252\n",
      "Data columns (total 7 columns):\n",
      " #   Column     Non-Null Count  Dtype  \n",
      "---  ------     --------------  -----  \n",
      " 0   Date       4253 non-null   object \n",
      " 1   Open       4218 non-null   float64\n",
      " 2   High       4218 non-null   float64\n",
      " 3   Low        4218 non-null   float64\n",
      " 4   Close      4218 non-null   float64\n",
      " 5   Adj Close  4218 non-null   float64\n",
      " 6   Volume     4218 non-null   float64\n",
      "dtypes: float64(6), object(1)\n",
      "memory usage: 232.7+ KB\n"
     ]
    }
   ],
   "source": [
    "data.info()"
   ]
  },
  {
   "cell_type": "code",
   "execution_count": 99,
   "metadata": {},
   "outputs": [
    {
     "data": {
      "text/plain": [
       "<AxesSubplot:>"
      ]
     },
     "execution_count": 99,
     "metadata": {},
     "output_type": "execute_result"
    },
    {
     "data": {
      "image/png": "[encoded data removed]",
      "text/plain": [
       "<Figure size 432x288 with 1 Axes>"
      ]
     },
     "metadata": {
      "needs_background": "light"
     },
     "output_type": "display_data"
    }
   ],
   "source": [
    "#NaN-values\n",
    "sns.heatmap(data.isnull(), yticklabels=False, cbar = False)"
   ]
  },
  {
   "cell_type": "code",
   "execution_count": 100,
   "metadata": {},
   "outputs": [],
   "source": [
    "data.dropna(inplace = True)"
   ]
  },
  {
   "cell_type": "code",
   "execution_count": 101,
   "metadata": {},
   "outputs": [
    {
     "data": {
      "text/plain": [
       "<AxesSubplot:>"
      ]
     },
     "execution_count": 101,
     "metadata": {},
     "output_type": "execute_result"
    },
    {
     "data": {
      "image/png": "[encoded data removed]",
      "text/plain": [
       "<Figure size 432x288 with 1 Axes>"
      ]
     },
     "metadata": {
      "needs_background": "light"
     },
     "output_type": "display_data"
    }
   ],
   "source": [
    "#removed NaN-values\n",
    "sns.heatmap(data.isnull(), yticklabels=False, cbar = False)"
   ]
  },
  {
   "cell_type": "code",
   "execution_count": 102,
   "metadata": {},
   "outputs": [
    {
     "data": {
      "text/plain": [
       "Date         0\n",
       "Open         0\n",
       "High         0\n",
       "Low          0\n",
       "Close        0\n",
       "Adj Close    0\n",
       "Volume       0\n",
       "dtype: int64"
      ]
     },
     "execution_count": 102,
     "metadata": {},
     "output_type": "execute_result"
    }
   ],
   "source": [
    "data.isnull().sum()"
   ]
  },
  {
   "cell_type": "code",
   "execution_count": 103,
   "metadata": {},
   "outputs": [
    {
     "data": {
      "text/html": [
       "<div>\n",
       "<style scoped>\n",
       "    .dataframe tbody tr th:only-of-type {\n",
       "        vertical-align: middle;\n",
       "    }\n",
       "\n",
       "    .dataframe tbody tr th {\n",
       "        vertical-align: top;\n",
       "    }\n",
       "\n",
       "    .dataframe thead th {\n",
       "        text-align: right;\n",
       "    }\n",
       "</style>\n",
       "<table border=\"1\" class=\"dataframe\">\n",
       "  <thead>\n",
       "    <tr style=\"text-align: right;\">\n",
       "      <th></th>\n",
       "      <th>Date</th>\n",
       "      <th>Open</th>\n",
       "      <th>High</th>\n",
       "      <th>Low</th>\n",
       "      <th>Close</th>\n",
       "      <th>Adj Close</th>\n",
       "      <th>Volume</th>\n",
       "    </tr>\n",
       "  </thead>\n",
       "  <tbody>\n",
       "    <tr>\n",
       "      <th>0</th>\n",
       "      <td>2003-12-18</td>\n",
       "      <td>19.482599</td>\n",
       "      <td>19.596901</td>\n",
       "      <td>19.025499</td>\n",
       "      <td>19.139799</td>\n",
       "      <td>19.139799</td>\n",
       "      <td>4978496.0</td>\n",
       "    </tr>\n",
       "    <tr>\n",
       "      <th>1</th>\n",
       "      <td>2003-12-19</td>\n",
       "      <td>19.368299</td>\n",
       "      <td>19.425501</td>\n",
       "      <td>18.282801</td>\n",
       "      <td>18.454201</td>\n",
       "      <td>18.454201</td>\n",
       "      <td>1410901.0</td>\n",
       "    </tr>\n",
       "    <tr>\n",
       "      <th>2</th>\n",
       "      <td>2003-12-22</td>\n",
       "      <td>18.739901</td>\n",
       "      <td>18.739901</td>\n",
       "      <td>17.997101</td>\n",
       "      <td>18.054300</td>\n",
       "      <td>18.054300</td>\n",
       "      <td>137047.0</td>\n",
       "    </tr>\n",
       "    <tr>\n",
       "      <th>3</th>\n",
       "      <td>2003-12-23</td>\n",
       "      <td>17.997101</td>\n",
       "      <td>17.997101</td>\n",
       "      <td>17.368700</td>\n",
       "      <td>17.425800</td>\n",
       "      <td>17.425800</td>\n",
       "      <td>229418.0</td>\n",
       "    </tr>\n",
       "    <tr>\n",
       "      <th>7</th>\n",
       "      <td>2003-12-29</td>\n",
       "      <td>17.425800</td>\n",
       "      <td>17.425800</td>\n",
       "      <td>16.854500</td>\n",
       "      <td>17.254400</td>\n",
       "      <td>17.254400</td>\n",
       "      <td>196206.0</td>\n",
       "    </tr>\n",
       "    <tr>\n",
       "      <th>8</th>\n",
       "      <td>2003-12-30</td>\n",
       "      <td>17.425800</td>\n",
       "      <td>17.882900</td>\n",
       "      <td>17.425800</td>\n",
       "      <td>17.711500</td>\n",
       "      <td>17.711500</td>\n",
       "      <td>67298.0</td>\n",
       "    </tr>\n",
       "    <tr>\n",
       "      <th>11</th>\n",
       "      <td>2004-01-02</td>\n",
       "      <td>17.940001</td>\n",
       "      <td>18.054300</td>\n",
       "      <td>17.768600</td>\n",
       "      <td>17.768600</td>\n",
       "      <td>17.768600</td>\n",
       "      <td>322923.0</td>\n",
       "    </tr>\n",
       "    <tr>\n",
       "      <th>12</th>\n",
       "      <td>2004-01-05</td>\n",
       "      <td>18.054300</td>\n",
       "      <td>18.054300</td>\n",
       "      <td>17.711500</td>\n",
       "      <td>17.711500</td>\n",
       "      <td>17.711500</td>\n",
       "      <td>182782.0</td>\n",
       "    </tr>\n",
       "    <tr>\n",
       "      <th>13</th>\n",
       "      <td>2004-01-06</td>\n",
       "      <td>17.940001</td>\n",
       "      <td>17.997101</td>\n",
       "      <td>17.597200</td>\n",
       "      <td>17.597200</td>\n",
       "      <td>17.597200</td>\n",
       "      <td>300054.0</td>\n",
       "    </tr>\n",
       "    <tr>\n",
       "      <th>14</th>\n",
       "      <td>2004-01-07</td>\n",
       "      <td>17.425800</td>\n",
       "      <td>17.711500</td>\n",
       "      <td>17.140100</td>\n",
       "      <td>17.140100</td>\n",
       "      <td>17.140100</td>\n",
       "      <td>189937.0</td>\n",
       "    </tr>\n",
       "  </tbody>\n",
       "</table>\n",
       "</div>"
      ],
      "text/plain": [
       "          Date       Open       High        Low      Close  Adj Close  \\\n",
       "0   2003-12-18  19.482599  19.596901  19.025499  19.139799  19.139799   \n",
       "1   2003-12-19  19.368299  19.425501  18.282801  18.454201  18.454201   \n",
       "2   2003-12-22  18.739901  18.739901  17.997101  18.054300  18.054300   \n",
       "3   2003-12-23  17.997101  17.997101  17.368700  17.425800  17.425800   \n",
       "7   2003-12-29  17.425800  17.425800  16.854500  17.254400  17.254400   \n",
       "8   2003-12-30  17.425800  17.882900  17.425800  17.711500  17.711500   \n",
       "11  2004-01-02  17.940001  18.054300  17.768600  17.768600  17.768600   \n",
       "12  2004-01-05  18.054300  18.054300  17.711500  17.711500  17.711500   \n",
       "13  2004-01-06  17.940001  17.997101  17.597200  17.597200  17.597200   \n",
       "14  2004-01-07  17.425800  17.711500  17.140100  17.140100  17.140100   \n",
       "\n",
       "       Volume  \n",
       "0   4978496.0  \n",
       "1   1410901.0  \n",
       "2    137047.0  \n",
       "3    229418.0  \n",
       "7    196206.0  \n",
       "8     67298.0  \n",
       "11   322923.0  \n",
       "12   182782.0  \n",
       "13   300054.0  \n",
       "14   189937.0  "
      ]
     },
     "execution_count": 103,
     "metadata": {},
     "output_type": "execute_result"
    }
   ],
   "source": [
    "data.head(10)"
   ]
  },
  {
   "cell_type": "code",
   "execution_count": 104,
   "metadata": {
    "scrolled": false
   },
   "outputs": [
    {
     "data": {
      "text/plain": [
       "Text(0, 0.5, '$ price')"
      ]
     },
     "execution_count": 104,
     "metadata": {},
     "output_type": "execute_result"
    },
    {
     "data": {
      "image/png": "[encoded data removed]",
      "text/plain": [
       "<Figure size 720x720 with 1 Axes>"
      ]
     },
     "metadata": {
      "needs_background": "light"
     },
     "output_type": "display_data"
    }
   ],
   "source": [
    "#new tabell for plotting dates\n",
    "dataPlot = pd.read_csv(\"NAS.csv\", parse_dates=['Date'])\n",
    "dataPlot.dropna(inplace = True)\n",
    "\n",
    "plt.figure(figsize=(10,10))\n",
    "plt.plot(dataPlot['Date'], dataPlot['Close'])\n",
    "plt.xlabel(\"Date\")\n",
    "plt.ylabel(\"$ price\")"
   ]
  },
  {
   "cell_type": "code",
   "execution_count": 105,
   "metadata": {},
   "outputs": [
    {
     "data": {
      "text/plain": [
       "0     19.139799\n",
       "1     18.454201\n",
       "2     18.054300\n",
       "3     17.425800\n",
       "7     17.254400\n",
       "8     17.711500\n",
       "11    17.768600\n",
       "12    17.711500\n",
       "13    17.597200\n",
       "14    17.140100\n",
       "Name: Close, dtype: float64"
      ]
     },
     "execution_count": 105,
     "metadata": {},
     "output_type": "execute_result"
    }
   ],
   "source": [
    "value = data.Close\n",
    "value.head(10)"
   ]
  },
  {
   "cell_type": "code",
   "execution_count": 106,
   "metadata": {},
   "outputs": [
    {
     "data": {
      "text/html": [
       "<div>\n",
       "<style scoped>\n",
       "    .dataframe tbody tr th:only-of-type {\n",
       "        vertical-align: middle;\n",
       "    }\n",
       "\n",
       "    .dataframe tbody tr th {\n",
       "        vertical-align: top;\n",
       "    }\n",
       "\n",
       "    .dataframe thead th {\n",
       "        text-align: right;\n",
       "    }\n",
       "</style>\n",
       "<table border=\"1\" class=\"dataframe\">\n",
       "  <thead>\n",
       "    <tr style=\"text-align: right;\">\n",
       "      <th></th>\n",
       "      <th>Date</th>\n",
       "    </tr>\n",
       "  </thead>\n",
       "  <tbody>\n",
       "    <tr>\n",
       "      <th>0</th>\n",
       "      <td>731567</td>\n",
       "    </tr>\n",
       "    <tr>\n",
       "      <th>1</th>\n",
       "      <td>731568</td>\n",
       "    </tr>\n",
       "    <tr>\n",
       "      <th>2</th>\n",
       "      <td>731571</td>\n",
       "    </tr>\n",
       "    <tr>\n",
       "      <th>3</th>\n",
       "      <td>731572</td>\n",
       "    </tr>\n",
       "    <tr>\n",
       "      <th>7</th>\n",
       "      <td>731578</td>\n",
       "    </tr>\n",
       "    <tr>\n",
       "      <th>8</th>\n",
       "      <td>731579</td>\n",
       "    </tr>\n",
       "    <tr>\n",
       "      <th>11</th>\n",
       "      <td>731582</td>\n",
       "    </tr>\n",
       "    <tr>\n",
       "      <th>12</th>\n",
       "      <td>731585</td>\n",
       "    </tr>\n",
       "    <tr>\n",
       "      <th>13</th>\n",
       "      <td>731586</td>\n",
       "    </tr>\n",
       "    <tr>\n",
       "      <th>14</th>\n",
       "      <td>731587</td>\n",
       "    </tr>\n",
       "  </tbody>\n",
       "</table>\n",
       "</div>"
      ],
      "text/plain": [
       "      Date\n",
       "0   731567\n",
       "1   731568\n",
       "2   731571\n",
       "3   731572\n",
       "7   731578\n",
       "8   731579\n",
       "11  731582\n",
       "12  731585\n",
       "13  731586\n",
       "14  731587"
      ]
     },
     "execution_count": 106,
     "metadata": {},
     "output_type": "execute_result"
    }
   ],
   "source": [
    "#Converting dates to ordinal time\n",
    "data['Date'] = pd.to_datetime(data['Date'])\n",
    "data['Date'] = data['Date'].map(datetime.toordinal)\n",
    "input = data.drop(['Open', 'High', 'Low', 'Close', 'Adj Close', 'Volume'], axis='columns')\n",
    "input.head(10)"
   ]
  },
  {
   "cell_type": "code",
   "execution_count": 107,
   "metadata": {},
   "outputs": [
    {
     "data": {
      "text/plain": [
       "LinearRegression()"
      ]
     },
     "execution_count": 107,
     "metadata": {},
     "output_type": "execute_result"
    }
   ],
   "source": [
    "regObj = linear_model.LinearRegression()\n",
    "regObj.fit(input, value)"
   ]
  },
  {
   "cell_type": "code",
   "execution_count": 108,
   "metadata": {},
   "outputs": [
    {
     "name": "stdout",
     "output_type": "stream",
     "text": [
      "<class 'pandas.core.frame.DataFrame'>\n",
      "Int64Index: 4218 entries, 0 to 4252\n",
      "Data columns (total 7 columns):\n",
      " #   Column     Non-Null Count  Dtype  \n",
      "---  ------     --------------  -----  \n",
      " 0   Date       4218 non-null   int64  \n",
      " 1   Open       4218 non-null   float64\n",
      " 2   High       4218 non-null   float64\n",
      " 3   Low        4218 non-null   float64\n",
      " 4   Close      4218 non-null   float64\n",
      " 5   Adj Close  4218 non-null   float64\n",
      " 6   Volume     4218 non-null   float64\n",
      "dtypes: float64(6), int64(1)\n",
      "memory usage: 263.6 KB\n"
     ]
    }
   ],
   "source": [
    "data.info()"
   ]
  },
  {
   "cell_type": "code",
   "execution_count": 109,
   "metadata": {
    "scrolled": false
   },
   "outputs": [
    {
     "data": {
      "text/plain": [
       "Text(0, 0.5, 'Stock value $')"
      ]
     },
     "execution_count": 109,
     "metadata": {},
     "output_type": "execute_result"
    },
    {
     "data": {
      "image/png": "[encoded data removed]",
      "text/plain": [
       "<Figure size 720x720 with 1 Axes>"
      ]
     },
     "metadata": {
      "needs_background": "light"
     },
     "output_type": "display_data"
    }
   ],
   "source": [
    "#Plotting value (blue) and predicted value (red) with dates.\n",
    "plt.figure(figsize=(10,10))\n",
    "plt.scatter(dataPlot['Date'], data['Close'], color='blue', s=4)\n",
    "plt.plot(dataPlot['Date'], regObj.predict(data[['Date']]), color='red')\n",
    "\n",
    "plt.xlabel('Date', fontsize=16)\n",
    "plt.ylabel('Stock value $', fontsize=16)"
   ]
  },
  {
   "cell_type": "code",
   "execution_count": 110,
   "metadata": {},
   "outputs": [
    {
     "data": {
      "text/plain": [
       "array([150.54739202])"
      ]
     },
     "execution_count": 110,
     "metadata": {},
     "output_type": "execute_result"
    }
   ],
   "source": [
    "#predicting value from date input.\n",
    "dato = \"2025-01-01\"\n",
    "datoObj = datetime.strptime(dato, '%Y-%m-%d')\n",
    "regObj.predict([[datoObj.toordinal()]])"
   ]
  },
  {
   "cell_type": "code",
   "execution_count": null,
   "metadata": {},
   "outputs": [],
   "source": []
  }
 ],
 "metadata": {
  "kernelspec": {
   "display_name": "Python 3",
   "language": "python",
   "name": "python3"
  },
  "language_info": {
   "codemirror_mode": {
    "name": "ipython",
    "version": 3
   },
   "file_extension": ".py",
   "mimetype": "text/x-python",
   "name": "python",
   "nbconvert_exporter": "python",
   "pygments_lexer": "ipython3",
   "version": "3.8.5"
  }
 },
 "nbformat": 4,
 "nbformat_minor": 4
}
